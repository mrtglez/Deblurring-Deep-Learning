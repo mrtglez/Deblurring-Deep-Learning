{
 "cells": [
  {
   "cell_type": "code",
   "execution_count": 1,
   "id": "81f654ab-0345-4066-9991-795e2a85803b",
   "metadata": {},
   "outputs": [],
   "source": [
    "DATASET_FOLDER = './datasets'\n",
    "INPUT_NAME = 'blur'\n",
    "OUTPUT_NAME = 'sharp'\n"
   ]
  },
  {
   "cell_type": "code",
   "execution_count": 9,
   "id": "4b1737da-946f-43d5-9532-15a63b9bcfb7",
   "metadata": {},
   "outputs": [],
   "source": [
    "import glob\n",
    "import os\n",
    "import pandas as pd\n",
    "import numpy as np"
   ]
  },
  {
   "cell_type": "code",
   "execution_count": 28,
   "id": "4dd404bc-2d47-472d-8681-07c72746210e",
   "metadata": {},
   "outputs": [],
   "source": [
    "def getLastComp(path):\n",
    "    return path.split('/')[-1]\n",
    "\n",
    "def getLastDir(path):\n",
    "    return path.split('/')[-2]"
   ]
  },
  {
   "cell_type": "code",
   "execution_count": 3,
   "id": "59db2eef-a1af-479b-847c-9df5ae17fb4d",
   "metadata": {},
   "outputs": [],
   "source": [
    "datasets = glob.glob(os.path.join(DATASET_FOLDER, \"*/\"))"
   ]
  },
  {
   "cell_type": "code",
   "execution_count": 4,
   "id": "2a099051-7a2e-46aa-91a9-e17b528000fd",
   "metadata": {},
   "outputs": [],
   "source": [
    "datasets = {getLastDir(x):x for x in datasets}"
   ]
  },
  {
   "cell_type": "code",
   "execution_count": 5,
   "id": "2d6a31da-b541-492c-b6e0-af46cf44a21e",
   "metadata": {},
   "outputs": [
    {
     "data": {
      "text/plain": [
       "{'GOPRO': './datasets/GOPRO/'}"
      ]
     },
     "execution_count": 5,
     "metadata": {},
     "output_type": "execute_result"
    }
   ],
   "source": [
    "datasets"
   ]
  },
  {
   "cell_type": "code",
   "execution_count": 34,
   "id": "5a1b4d7d-af73-4188-827e-94b2f4847e79",
   "metadata": {},
   "outputs": [],
   "source": [
    "data_as_array = [] # Rellenar un array con los datos para crear un dataframe\n",
    "for dataset_name, dataset_path in datasets.items():\n",
    "    for type_path in glob.glob(os.path.join(dataset_path, '*/')):\n",
    "        for secuence_path in glob.glob(os.path.join(type_path, '*/')):\n",
    "            for class_path in glob.glob(os.path.join(secuence_path, '*/')):\n",
    "                for frame_path in sorted(glob.glob(os.path.join(class_path, '*.png'))):\n",
    "                    data_as_array.append([dataset_name, getLastDir(type_path), getLastDir(secuence_path),\n",
    "                                          getLastDir(class_path), int(getLastComp(frame_path).split('.')[0]), frame_path])"
   ]
  },
  {
   "cell_type": "code",
   "execution_count": 35,
   "id": "b39063aa-6f0a-4414-8029-7d83924d0ac8",
   "metadata": {},
   "outputs": [],
   "source": [
    "dataframe = pd.DataFrame(data_as_array ,columns=['dataset', 'type_name', 'secuence','class_name', 'frame_id', 'frame_path'])"
   ]
  },
  {
   "cell_type": "code",
   "execution_count": 36,
   "id": "132c5512-1d32-4f1b-a01e-9f1cb37de7ba",
   "metadata": {},
   "outputs": [
    {
     "data": {
      "text/html": [
       "<div>\n",
       "<style scoped>\n",
       "    .dataframe tbody tr th:only-of-type {\n",
       "        vertical-align: middle;\n",
       "    }\n",
       "\n",
       "    .dataframe tbody tr th {\n",
       "        vertical-align: top;\n",
       "    }\n",
       "\n",
       "    .dataframe thead th {\n",
       "        text-align: right;\n",
       "    }\n",
       "</style>\n",
       "<table border=\"1\" class=\"dataframe\">\n",
       "  <thead>\n",
       "    <tr style=\"text-align: right;\">\n",
       "      <th></th>\n",
       "      <th>dataset</th>\n",
       "      <th>type_name</th>\n",
       "      <th>secuence</th>\n",
       "      <th>class_name</th>\n",
       "      <th>frame_id</th>\n",
       "      <th>frame_path</th>\n",
       "    </tr>\n",
       "  </thead>\n",
       "  <tbody>\n",
       "    <tr>\n",
       "      <th>0</th>\n",
       "      <td>GOPRO</td>\n",
       "      <td>test</td>\n",
       "      <td>GOPR0410_11_00</td>\n",
       "      <td>blur_gamma</td>\n",
       "      <td>101</td>\n",
       "      <td>./datasets/GOPRO/test/GOPR0410_11_00/blur_gamm...</td>\n",
       "    </tr>\n",
       "    <tr>\n",
       "      <th>1</th>\n",
       "      <td>GOPRO</td>\n",
       "      <td>test</td>\n",
       "      <td>GOPR0410_11_00</td>\n",
       "      <td>blur_gamma</td>\n",
       "      <td>102</td>\n",
       "      <td>./datasets/GOPRO/test/GOPR0410_11_00/blur_gamm...</td>\n",
       "    </tr>\n",
       "    <tr>\n",
       "      <th>2</th>\n",
       "      <td>GOPRO</td>\n",
       "      <td>test</td>\n",
       "      <td>GOPR0410_11_00</td>\n",
       "      <td>blur_gamma</td>\n",
       "      <td>103</td>\n",
       "      <td>./datasets/GOPRO/test/GOPR0410_11_00/blur_gamm...</td>\n",
       "    </tr>\n",
       "    <tr>\n",
       "      <th>3</th>\n",
       "      <td>GOPRO</td>\n",
       "      <td>test</td>\n",
       "      <td>GOPR0410_11_00</td>\n",
       "      <td>blur_gamma</td>\n",
       "      <td>104</td>\n",
       "      <td>./datasets/GOPRO/test/GOPR0410_11_00/blur_gamm...</td>\n",
       "    </tr>\n",
       "    <tr>\n",
       "      <th>4</th>\n",
       "      <td>GOPRO</td>\n",
       "      <td>test</td>\n",
       "      <td>GOPR0410_11_00</td>\n",
       "      <td>blur_gamma</td>\n",
       "      <td>105</td>\n",
       "      <td>./datasets/GOPRO/test/GOPR0410_11_00/blur_gamm...</td>\n",
       "    </tr>\n",
       "  </tbody>\n",
       "</table>\n",
       "</div>"
      ],
      "text/plain": [
       "  dataset type_name        secuence  class_name  frame_id  \\\n",
       "0   GOPRO      test  GOPR0410_11_00  blur_gamma       101   \n",
       "1   GOPRO      test  GOPR0410_11_00  blur_gamma       102   \n",
       "2   GOPRO      test  GOPR0410_11_00  blur_gamma       103   \n",
       "3   GOPRO      test  GOPR0410_11_00  blur_gamma       104   \n",
       "4   GOPRO      test  GOPR0410_11_00  blur_gamma       105   \n",
       "\n",
       "                                          frame_path  \n",
       "0  ./datasets/GOPRO/test/GOPR0410_11_00/blur_gamm...  \n",
       "1  ./datasets/GOPRO/test/GOPR0410_11_00/blur_gamm...  \n",
       "2  ./datasets/GOPRO/test/GOPR0410_11_00/blur_gamm...  \n",
       "3  ./datasets/GOPRO/test/GOPR0410_11_00/blur_gamm...  \n",
       "4  ./datasets/GOPRO/test/GOPR0410_11_00/blur_gamm...  "
      ]
     },
     "execution_count": 36,
     "metadata": {},
     "output_type": "execute_result"
    }
   ],
   "source": [
    "dataframe.head()"
   ]
  },
  {
   "cell_type": "code",
   "execution_count": 40,
   "id": "402abc94-d927-4aa0-9b48-ab0853648a62",
   "metadata": {},
   "outputs": [],
   "source": [
    "df_train = dataframe[dataframe[\"type_name\"] == \"train\"]\n",
    "df_test = dataframe[dataframe[\"type_name\"] == \"test\"]"
   ]
  },
  {
   "cell_type": "code",
   "execution_count": 41,
   "id": "fb2a736d-ca43-4b67-af2b-6020eb00da8e",
   "metadata": {},
   "outputs": [
    {
     "data": {
      "text/plain": [
       "6309"
      ]
     },
     "execution_count": 41,
     "metadata": {},
     "output_type": "execute_result"
    }
   ],
   "source": [
    "len(df_train)"
   ]
  },
  {
   "cell_type": "code",
   "execution_count": 43,
   "id": "06093ae0-b208-4b06-a605-6b0cb63bfb35",
   "metadata": {},
   "outputs": [
    {
     "data": {
      "text/plain": [
       "3333"
      ]
     },
     "execution_count": 43,
     "metadata": {},
     "output_type": "execute_result"
    }
   ],
   "source": [
    "len(df_test)"
   ]
  },
  {
   "cell_type": "code",
   "execution_count": 46,
   "id": "4c252a0c-56ce-4c6a-a305-97412de7ad59",
   "metadata": {},
   "outputs": [
    {
     "data": {
      "text/plain": [
       "dataset                                                   GOPRO\n",
       "type_name                                                  test\n",
       "secuence                                         GOPR0410_11_00\n",
       "class_name                                           blur_gamma\n",
       "frame_id                                                    102\n",
       "frame_path    ./datasets/GOPRO/test/GOPR0410_11_00/blur_gamm...\n",
       "Name: 1, dtype: object"
      ]
     },
     "execution_count": 46,
     "metadata": {},
     "output_type": "execute_result"
    }
   ],
   "source": [
    "df_test.loc[1]"
   ]
  },
  {
   "cell_type": "code",
   "execution_count": null,
   "id": "a4a9b463-20c8-45c3-93c4-0306908a5c55",
   "metadata": {},
   "outputs": [],
   "source": []
  },
  {
   "cell_type": "code",
   "execution_count": null,
   "id": "d1462969-836d-4de5-b5ee-9ea9505edaf3",
   "metadata": {},
   "outputs": [],
   "source": []
  },
  {
   "cell_type": "code",
   "execution_count": null,
   "id": "7bae0462-6a9a-4445-a952-92d7fd0dc33f",
   "metadata": {},
   "outputs": [],
   "source": []
  }
 ],
 "metadata": {
  "kernelspec": {
   "display_name": "Python 3 (ipykernel)",
   "language": "python",
   "name": "python3"
  },
  "language_info": {
   "codemirror_mode": {
    "name": "ipython",
    "version": 3
   },
   "file_extension": ".py",
   "mimetype": "text/x-python",
   "name": "python",
   "nbconvert_exporter": "python",
   "pygments_lexer": "ipython3",
   "version": "3.9.5"
  }
 },
 "nbformat": 4,
 "nbformat_minor": 5
}
